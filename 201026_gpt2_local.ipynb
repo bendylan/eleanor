{
 "cells": [
  {
   "cell_type": "markdown",
   "metadata": {},
   "source": [
    "## Generate text locally with GPT2 Simple\n",
    "\n",
    "This tutorial assumes that you have trained/fine-tuned a new language model in our Google Colab example. Additionally, you should have created a new Anaconda environment (in this case called nlp) with Tensor Flow 1.15 and gpt-2-spimple installed.\n",
    "\n",
    "<br>\n",
    "You can disregard the TF2.0 warnings that will result"
   ]
  },
  {
   "cell_type": "code",
   "execution_count": null,
   "metadata": {},
   "outputs": [],
   "source": [
    "import gpt_2_simple as gpt2"
   ]
  },
  {
   "cell_type": "markdown",
   "metadata": {},
   "source": [
    "This following cell is required to prevent an annoying duplicate library error."
   ]
  },
  {
   "cell_type": "code",
   "execution_count": null,
   "metadata": {},
   "outputs": [],
   "source": [
    "import os\n",
    "os.environ['KMP_DUPLICATE_LIB_OK']='True'"
   ]
  },
  {
   "cell_type": "markdown",
   "metadata": {},
   "source": [
    "The following cell is not required, but good to confirm that your python environment has properly installed `gpt-2-simple 0.7.1` and `tensorflow 1.15.0`"
   ]
  },
  {
   "cell_type": "code",
   "execution_count": null,
   "metadata": {},
   "outputs": [],
   "source": [
    "pip list"
   ]
  },
  {
   "cell_type": "markdown",
   "metadata": {},
   "source": [
    "If this notebook is located in your new project folder `gpt2`, you will not need to change directories. Here we Print Working Directory `pwd` to confirm."
   ]
  },
  {
   "cell_type": "code",
   "execution_count": null,
   "metadata": {},
   "outputs": [],
   "source": [
    "pwd"
   ]
  },
  {
   "cell_type": "markdown",
   "metadata": {},
   "source": [
    "If you are not in the correct directory that contains your checkpoint folder, you can use `os.chdir()` to navigate to the proper dir"
   ]
  },
  {
   "cell_type": "code",
   "execution_count": null,
   "metadata": {},
   "outputs": [],
   "source": [
    "os.chdir('/Users/tivonrice/Desktop/gpt2') "
   ]
  },
  {
   "cell_type": "markdown",
   "metadata": {},
   "source": [
    "Make sure you have unzipped the .tar archive generated during the fine-tuning process. In this example, the checkpoint directory is `.../gpt2/checkpoint/ghandi` Regardless, the `run_name` should correspond with the folder name *inside* of 'checkpoint.' So you may need to change `run_name` to `'run1'` \n",
    "\n",
    "<br> \n",
    "Starting this TF session will take a minute or so, then you should get feedback that the chackpoint has been loaded"
   ]
  },
  {
   "cell_type": "code",
   "execution_count": null,
   "metadata": {},
   "outputs": [],
   "source": [
    "sess = gpt2.start_tf_sess()\n",
    "gpt2.load_gpt2(sess, run_name='gandhi')"
   ]
  },
  {
   "cell_type": "markdown",
   "metadata": {},
   "source": [
    "Define a new string that will be the prompt for GPT2"
   ]
  },
  {
   "cell_type": "code",
   "execution_count": null,
   "metadata": {},
   "outputs": [],
   "source": [
    "prompt = 'A protest is a'"
   ]
  },
  {
   "cell_type": "markdown",
   "metadata": {},
   "source": [
    "Now we can generate text on our local machine... no internet connection required (as is the case with Colab). Keep in mind that you are running on CPU, so it will take longer than with Colab. This woud also run considerably faster on a desktop or gaming laptop with an nVidia GPU.\n",
    "<br>\n",
    "\n",
    "On my Macbook Pro, processing times are roughly:\n",
    "<br>\n",
    "50 words = 30 seconds\n",
    "<br>\n",
    "100 words = 36 seconds\n",
    "<br>\n",
    "200 words = 48 seconds"
   ]
  },
  {
   "cell_type": "code",
   "execution_count": null,
   "metadata": {},
   "outputs": [],
   "source": [
    "text = gpt2.generate(sess,\n",
    "              run_name='gandhi',\n",
    "              length=50,\n",
    "              temperature=0.7,\n",
    "              prefix=prompt,\n",
    "              nsamples=1,\n",
    "              batch_size=1,\n",
    "              return_as_list=True\n",
    "              )\n",
    "print(text)"
   ]
  },
  {
   "cell_type": "markdown",
   "metadata": {},
   "source": [
    "Notice that our output is being printed AND defined as the variable `text`... but it is contained within a list, so let's convert it to a string. `text[0]` simply states, give me the first element (index 0) of the list called 'text'"
   ]
  },
  {
   "cell_type": "code",
   "execution_count": null,
   "metadata": {},
   "outputs": [],
   "source": [
    "text = text[0]\n",
    "text"
   ]
  },
  {
   "cell_type": "markdown",
   "metadata": {},
   "source": [
    "Now that it is a string, we can run some simple post processing, like truncating at the final '.'"
   ]
  },
  {
   "cell_type": "code",
   "execution_count": null,
   "metadata": {},
   "outputs": [],
   "source": [
    "mylength = text.rfind(\". \")\n",
    "text = text[:(mylength+1)]\n",
    "text"
   ]
  },
  {
   "cell_type": "code",
   "execution_count": null,
   "metadata": {},
   "outputs": [],
   "source": [
    "print(text)"
   ]
  }
 ],
 "metadata": {
  "kernelspec": {
   "display_name": "Python 3",
   "language": "python",
   "name": "python3"
  },
  "language_info": {
   "codemirror_mode": {
    "name": "ipython",
    "version": 3
   },
   "file_extension": ".py",
   "mimetype": "text/x-python",
   "name": "python",
   "nbconvert_exporter": "python",
   "pygments_lexer": "ipython3",
   "version": "3.8.3"
  }
 },
 "nbformat": 4,
 "nbformat_minor": 4
}
